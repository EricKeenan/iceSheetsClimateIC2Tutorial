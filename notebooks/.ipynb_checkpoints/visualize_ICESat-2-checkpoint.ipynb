{
 "cells": [
  {
   "cell_type": "markdown",
   "metadata": {},
   "source": [
    "# Visualization of ICESat-2 ATL06 (Land Surface Elevation) Data\n",
    "## Of note, there are much more detailed tutorials on handling ICESat-2 data. https://github.com/ICESAT-2HackWeek\n",
    "### First begin be defining user editable variables"
   ]
  },
  {
   "cell_type": "code",
   "execution_count": 1,
   "metadata": {},
   "outputs": [],
   "source": [
    "# Define location of ICESat-2 file\n",
    "file_dir = \"../data/\"\n",
    "file_name = \"processed_ATL06_20181122203207_08430110_001_01_gt2l.h5\""
   ]
  },
  {
   "cell_type": "markdown",
   "metadata": {},
   "source": [
    "### Next, import all necessary python modules from the ICESat-2 environment (ICESat-2.yml)."
   ]
  },
  {
   "cell_type": "code",
   "execution_count": 2,
   "metadata": {},
   "outputs": [],
   "source": [
    "import h5py\n",
    "import numpy as np\n",
    "import matplotlib.pyplot as plt"
   ]
  },
  {
   "cell_type": "markdown",
   "metadata": {},
   "source": [
    "### Load in ICESat-2 data and inspect meta data."
   ]
  },
  {
   "cell_type": "code",
   "execution_count": 3,
   "metadata": {},
   "outputs": [],
   "source": [
    "# Load file\n",
    "file_path = file_dir + file_name\n",
    "data = h5py.File(file_path, 'r')\n",
    "\n",
    "\"\"\"\n",
    "Uncomment the next command to print meta data. \n",
    "Note by using the \"!\", you are telling the interpreter \n",
    "to execute as a bash command, not python! \n",
    "\"\"\"\n",
    "#!h5dump -H $file_path\n",
    "\n",
    "# Load elevation data to memory\n",
    "elevation = data['h_elv']\n",
    "lat = data['lat']\n",
    "lon = data['lon']"
   ]
  },
  {
   "cell_type": "markdown",
   "metadata": {},
   "source": [
    "### Plot latitude vs. elevation. Zoom in on interesting features using the widget feature. "
   ]
  },
  {
   "cell_type": "code",
   "execution_count": 4,
   "metadata": {},
   "outputs": [
    {
     "data": {
      "application/vnd.jupyter.widget-view+json": {
       "model_id": "a4fa25076689471b923efa7d2ad0e076",
       "version_major": 2,
       "version_minor": 0
      },
      "text/plain": [
       "Canvas(toolbar=Toolbar(toolitems=[('Home', 'Reset original view', 'home', 'home'), ('Back', 'Back to previous …"
      ]
     },
     "metadata": {},
     "output_type": "display_data"
    },
    {
     "data": {
      "text/plain": [
       "Text(0, 0.5, 'Elevation')"
      ]
     },
     "execution_count": 4,
     "metadata": {},
     "output_type": "execute_result"
    }
   ],
   "source": [
    "%matplotlib widget\n",
    "plt.plot(lat, elevation)\n",
    "plt.xlabel(\"Latitude\")\n",
    "plt.ylabel(\"Elevation\")"
   ]
  }
 ],
 "metadata": {
  "kernelspec": {
   "display_name": "Python 3",
   "language": "python",
   "name": "python3"
  },
  "language_info": {
   "codemirror_mode": {
    "name": "ipython",
    "version": 3
   },
   "file_extension": ".py",
   "mimetype": "text/x-python",
   "name": "python",
   "nbconvert_exporter": "python",
   "pygments_lexer": "ipython3",
   "version": "3.7.4"
  }
 },
 "nbformat": 4,
 "nbformat_minor": 2
}
